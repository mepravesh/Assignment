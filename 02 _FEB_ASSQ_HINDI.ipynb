{
 "cells": [
  {
   "cell_type": "markdown",
   "id": "a78c4d54",
   "metadata": {},
   "source": [
    " Q1. Explain with an example each when to use a for loop and a while loop."
   ]
  },
  {
   "cell_type": "markdown",
   "id": "553ea46d",
   "metadata": {},
   "source": [
    "ANS.\n",
    "\n",
    "For loop:-A for loop is used for iterating over a sequence (that is either a list, a tuple, a dictionary, a set, or a string).\n",
    "\n",
    "\n",
    "while loop:-With the while loop we can execute a set of statements as long as a condition is true.\n",
    "\n",
    "\n"
   ]
  },
  {
   "cell_type": "markdown",
   "id": "94d8bace",
   "metadata": {},
   "source": [
    " Q2. Write a python program to print the sum and product of the first 10 natural numbers using for and while loop. \n"
   ]
  },
  {
   "cell_type": "code",
   "execution_count": 6,
   "id": "1110a4f5",
   "metadata": {},
   "outputs": [
    {
     "data": {
      "text/plain": [
       "45"
      ]
     },
     "execution_count": 6,
     "metadata": {},
     "output_type": "execute_result"
    }
   ],
   "source": [
    "# for loop\n",
    "\n",
    "result=0\n",
    "for i in range(1,10):\n",
    "    result=result+i\n",
    "result\n"
   ]
  },
  {
   "cell_type": "markdown",
   "id": "519a33a6",
   "metadata": {},
   "source": [
    "Q3. Create a python program to compute the electricity bill for a household.\n",
    "The per-unit charges in rupees are as follows: For the first 100 units, the user will be charged Rs. 4.5 per\n",
    "unit, for the next 100 units, the user will be charged Rs. 6 per unit, and for the next 100 units, the user will\n",
    "be charged Rs. 10 per unit, After 300 units and above the user will be charged Rs. 20 per unit."
   ]
  },
  {
   "cell_type": "code",
   "execution_count": null,
   "id": "c80a9088",
   "metadata": {},
   "outputs": [],
   "source": [
    "\n",
    "units=int(input(\" Enter Your Month  Units \"))\n",
    "month=input(\"Enter You Month \")\n",
    "\n",
    "\n",
    "\n",
    "if units<=100:\n",
    "    print(month,units*4.5)\n",
    "elif units>100 and units<=200:\n",
    "    print(month,units*6)\n",
    "elif units>200 and units<=300:\n",
    "    print(month,units*10)\n",
    "elif units ==310:\n",
    "    print(2250)\n",
    "else:\n",
    "    print(month,uints*20)"
   ]
  },
  {
   "cell_type": "markdown",
   "id": "9a7357ff",
   "metadata": {},
   "source": [
    "Q4. Create a list of numbers from 1 to 100. Use for loop and while loop to calculate the cube of each\n",
    "number and if the cube of that number is divisible by 4 or 5 then append that number in a list and print\n",
    "that list."
   ]
  },
  {
   "cell_type": "code",
   "execution_count": 8,
   "id": "62400cdc",
   "metadata": {},
   "outputs": [
    {
     "data": {
      "text/plain": [
       "[4,\n",
       " 5,\n",
       " 8,\n",
       " 10,\n",
       " 12,\n",
       " 15,\n",
       " 16,\n",
       " 20,\n",
       " 24,\n",
       " 25,\n",
       " 28,\n",
       " 30,\n",
       " 32,\n",
       " 35,\n",
       " 36,\n",
       " 40,\n",
       " 44,\n",
       " 45,\n",
       " 48,\n",
       " 50,\n",
       " 52,\n",
       " 55,\n",
       " 56,\n",
       " 60,\n",
       " 64,\n",
       " 65,\n",
       " 68,\n",
       " 70,\n",
       " 72,\n",
       " 75,\n",
       " 76,\n",
       " 80,\n",
       " 84,\n",
       " 85,\n",
       " 88,\n",
       " 90,\n",
       " 92,\n",
       " 95,\n",
       " 96]"
      ]
     },
     "execution_count": 8,
     "metadata": {},
     "output_type": "execute_result"
    }
   ],
   "source": [
    "l=[]\n",
    "\n",
    "for i in range(1,100):\n",
    "    if i%4 == 0 or i%5== 0:\n",
    "        l.append(i)\n",
    "l"
   ]
  },
  {
   "cell_type": "markdown",
   "id": "bd2f1801",
   "metadata": {},
   "source": [
    "Q5. Write a program to filter count vowels in the below-given string.\n",
    "string = \"I want to become a data scientist\""
   ]
  },
  {
   "cell_type": "code",
   "execution_count": 26,
   "id": "01b7bdaf",
   "metadata": {},
   "outputs": [],
   "source": [
    "string = \"I want to become a data scientist\"\n",
    "\n",
    "string=string.lower()\n",
    "\n",
    "vowels_count=0\n",
    "vowels=\"aeiou\"\n",
    "\n",
    "for i in string:\n",
    "    if i in vowels:\n",
    "        vowel_count"
   ]
  },
  {
   "cell_type": "code",
   "execution_count": 27,
   "id": "d2013b64",
   "metadata": {},
   "outputs": [
    {
     "data": {
      "text/plain": [
       "12"
      ]
     },
     "execution_count": 27,
     "metadata": {},
     "output_type": "execute_result"
    }
   ],
   "source": [
    "vowel_count"
   ]
  },
  {
   "cell_type": "code",
   "execution_count": null,
   "id": "db9dfdea",
   "metadata": {},
   "outputs": [],
   "source": []
  }
 ],
 "metadata": {
  "kernelspec": {
   "display_name": "Python 3 (ipykernel)",
   "language": "python",
   "name": "python3"
  },
  "language_info": {
   "codemirror_mode": {
    "name": "ipython",
    "version": 3
   },
   "file_extension": ".py",
   "mimetype": "text/x-python",
   "name": "python",
   "nbconvert_exporter": "python",
   "pygments_lexer": "ipython3",
   "version": "3.9.13"
  }
 },
 "nbformat": 4,
 "nbformat_minor": 5
}

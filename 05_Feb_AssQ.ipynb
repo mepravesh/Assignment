{
 "cells": [
  {
   "cell_type": "raw",
   "id": "33d5bd2f",
   "metadata": {},
   "source": [
    "Q1. Explain Class and Object with respect to Object-Oriented Programming. Give a suitable example."
   ]
  },
  {
   "cell_type": "markdown",
   "id": "95601a58",
   "metadata": {},
   "source": [
    "Ans:-class is just a classification  of real world intity its also called a blue print"
   ]
  },
  {
   "cell_type": "raw",
   "id": "f120cada",
   "metadata": {},
   "source": [
    "Q2. Name the four pillars of OOPS"
   ]
  },
  {
   "cell_type": "markdown",
   "id": "6ec48e59",
   "metadata": {},
   "source": [
    "Ans:- 1. Encapsulation\n",
    "      2. Inheritance\n",
    "      3. Polymorphism\n",
    "      4. Abstraction"
   ]
  },
  {
   "cell_type": "raw",
   "id": "1c0cfd68",
   "metadata": {},
   "source": [
    "Q3. Explain why the __init__() function is used. Give a suitable example."
   ]
  },
  {
   "cell_type": "markdown",
   "id": "7d2d2b44",
   "metadata": {},
   "source": [
    "Ans:-   __init__() function is a special method, often referred to as the constructor, used to initialize and set the initial           state of an object when it is created from a class"
   ]
  },
  {
   "cell_type": "raw",
   "id": "14ca5178",
   "metadata": {},
   "source": [
    "Q4. Why self is used in OOPs?"
   ]
  },
  {
   "cell_type": "markdown",
   "id": "e51c765b",
   "metadata": {},
   "source": [
    "Ans:- self or any other name you choose, but self is a widely-used convention is used as a reference to the current instance of a class. "
   ]
  },
  {
   "cell_type": "raw",
   "id": "519d76d7",
   "metadata": {},
   "source": [
    "Q5.What is inheritance? Give an example for each type of inheritance."
   ]
  },
  {
   "cell_type": "markdown",
   "id": "28ee456e",
   "metadata": {},
   "source": [
    "Ans:-"
   ]
  },
  {
   "cell_type": "code",
   "execution_count": null,
   "id": "8c0999df",
   "metadata": {},
   "outputs": [],
   "source": []
  }
 ],
 "metadata": {
  "kernelspec": {
   "display_name": "Python 3 (ipykernel)",
   "language": "python",
   "name": "python3"
  },
  "language_info": {
   "codemirror_mode": {
    "name": "ipython",
    "version": 3
   },
   "file_extension": ".py",
   "mimetype": "text/x-python",
   "name": "python",
   "nbconvert_exporter": "python",
   "pygments_lexer": "ipython3",
   "version": "3.9.13"
  }
 },
 "nbformat": 4,
 "nbformat_minor": 5
}

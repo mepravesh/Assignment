{
 "cells": [
  {
   "cell_type": "markdown",
   "id": "2a049e8c",
   "metadata": {},
   "source": [
    "                                       Assignment Questions "
   ]
  },
  {
   "cell_type": "markdown",
   "id": "4e81a24f",
   "metadata": {},
   "source": [
    "Q 1.   Who developed Python Programming Language? "
   ]
  },
  {
   "cell_type": "markdown",
   "id": "c9f1b529",
   "metadata": {},
   "source": [
    "Ans. Guido van Rossum\n"
   ]
  },
  {
   "cell_type": "markdown",
   "id": "8a73b6cb",
   "metadata": {},
   "source": [
    "Q 2. Which type of Programming does Python support? "
   ]
  },
  {
   "cell_type": "markdown",
   "id": "869e9179",
   "metadata": {},
   "source": [
    "Ans.Object-oriented programming\n"
   ]
  },
  {
   "cell_type": "markdown",
   "id": "1a701d33",
   "metadata": {},
   "source": [
    " Q3.Is Python case sensitive when dealing with identifiers ?"
   ]
  },
  {
   "cell_type": "markdown",
   "id": "4f707a8c",
   "metadata": {},
   "source": [
    "Ans.The shortest answer to the question of case sensitivity in Python is yes. It is a case-sensitive language, like many other popular programming languages such as Java, C++, and JavaScript. Case sensitivity in Python increases the number of identifiers or symbols you can use."
   ]
  },
  {
   "cell_type": "markdown",
   "id": "faad3285",
   "metadata": {},
   "source": [
    "Q4.What is the correct extension of the Python file? "
   ]
  },
  {
   "cell_type": "markdown",
   "id": "cba006b9",
   "metadata": {},
   "source": [
    "Ans.When creating programs and code in Python, the correct file extension for your code is .py\n",
    "\n"
   ]
  },
  {
   "cell_type": "markdown",
   "id": "01d5232e",
   "metadata": {},
   "source": [
    "Q5.Is Python code compiled or interpreted? "
   ]
  },
  {
   "cell_type": "markdown",
   "id": "936e92c7",
   "metadata": {},
   "source": [
    "Ans. print(\"i am learning python\")"
   ]
  },
  {
   "cell_type": "markdown",
   "id": "c7be1db2",
   "metadata": {},
   "source": [
    "Q6.Name a few blocks of code used to define in Python language ?"
   ]
  },
  {
   "cell_type": "markdown",
   "id": "05412866",
   "metadata": {},
   "source": [
    "Ans.Indentation"
   ]
  },
  {
   "cell_type": "markdown",
   "id": "eecb3c93",
   "metadata": {},
   "source": [
    "Q7.State a character used to give single-line comments in Python"
   ]
  },
  {
   "cell_type": "markdown",
   "id": "84c22afe",
   "metadata": {},
   "source": [
    "Ans.# symbol"
   ]
  },
  {
   "cell_type": "markdown",
   "id": "315c4408",
   "metadata": {},
   "source": [
    "Q8.Mention functions which can help us to find the version of python that we are currently working on?"
   ]
  },
  {
   "cell_type": "markdown",
   "id": "bec2ca8c",
   "metadata": {},
   "source": [
    "Ans.sys.version "
   ]
  },
  {
   "cell_type": "markdown",
   "id": "b7b93721",
   "metadata": {},
   "source": [
    "Q9.Python supports the creation of anonymous functions at runtime, using a construct called "
   ]
  },
  {
   "cell_type": "markdown",
   "id": "040d7145",
   "metadata": {},
   "source": [
    "Ans.Lambda"
   ]
  },
  {
   "cell_type": "markdown",
   "id": "19fc9758",
   "metadata": {},
   "source": [
    "Q10. What does pip stand for python? "
   ]
  },
  {
   "cell_type": "markdown",
   "id": "bd070e89",
   "metadata": {},
   "source": [
    "Ans.Python Package Index"
   ]
  },
  {
   "cell_type": "markdown",
   "id": "991785e5",
   "metadata": {},
   "source": [
    "Q11.Mention a few built-in functions in python? "
   ]
  },
  {
   "cell_type": "markdown",
   "id": "dc51b6aa",
   "metadata": {},
   "source": [
    "Ans.int(),str(),set{},dict{},list[],find(),.etc"
   ]
  },
  {
   "cell_type": "markdown",
   "id": "df73e9b4",
   "metadata": {},
   "source": [
    " Q12.What is the maximum possible length of an identifier in Python? "
   ]
  },
  {
   "cell_type": "markdown",
   "id": "0618c0ec",
   "metadata": {},
   "source": [
    "Ans.79 characters"
   ]
  },
  {
   "cell_type": "markdown",
   "id": "bd4fc0f6",
   "metadata": {},
   "source": [
    "Q13.What are the benefits of using Python? "
   ]
  },
  {
   "cell_type": "markdown",
   "id": "f77a322f",
   "metadata": {},
   "source": [
    "Ans.1. OPEN SOURCE\n",
    "    2.VIBRANT COMMUNITY\n",
    "    3.WORK WITH LESS CODE\n",
    "    4.EASY INTEGRATIONS\n",
    "    5.PRODUCTIVITY\n",
    "    6.OBJECT-ORIENTED PROGRAMMING\n",
    "    7.SAFETY AND SECURITY\n",
    "    8.EASY SYNTAX\n",
    "    9.HIGH-LEVEL LANGUAGE AND EASY READABILITY\n",
    "    10.CONCLUSION\n"
   ]
  },
  {
   "cell_type": "markdown",
   "id": "44e100bd",
   "metadata": {},
   "source": [
    "Q14.How is memory managed in Python? "
   ]
  },
  {
   "cell_type": "markdown",
   "id": "42df3e92",
   "metadata": {},
   "source": [
    "Q15.How to install Python on Windows and set path variables? 16. Is indentation required in python?"
   ]
  },
  {
   "cell_type": "code",
   "execution_count": null,
   "id": "5cefabeb",
   "metadata": {},
   "outputs": [],
   "source": []
  }
 ],
 "metadata": {
  "kernelspec": {
   "display_name": "Python 3 (ipykernel)",
   "language": "python",
   "name": "python3"
  },
  "language_info": {
   "codemirror_mode": {
    "name": "ipython",
    "version": 3
   },
   "file_extension": ".py",
   "mimetype": "text/x-python",
   "name": "python",
   "nbconvert_exporter": "python",
   "pygments_lexer": "ipython3",
   "version": "3.9.13"
  }
 },
 "nbformat": 4,
 "nbformat_minor": 5
}

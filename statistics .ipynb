{
 "cells": [
  {
   "cell_type": "markdown",
   "id": "09cc29f3",
   "metadata": {},
   "source": [
    "Q1. What is Statistics?"
   ]
  },
  {
   "cell_type": "markdown",
   "id": "d543bc05",
   "metadata": {},
   "source": [
    "Ans. statistics is the science of collecting organizing and analyzing dat"
   ]
  },
  {
   "cell_type": "markdown",
   "id": "495408b6",
   "metadata": {},
   "source": [
    "Q2. Define the different types of statistics and give an example of when each type might be used."
   ]
  },
  {
   "cell_type": "markdown",
   "id": "48488802",
   "metadata": {},
   "source": [
    "Ans. There are two types of statistics \n",
    "        (a) Descriprire Statistics\n",
    "        (b) Infeicntial Statistics\n",
    "        \n",
    "(a) Descriprire Statistics :-it consists of organizing and summarizing data\n",
    "(b) Infeicntial Statistics :-it consists of using data you have mesurid to from conclusion\n"
   ]
  },
  {
   "cell_type": "markdown",
   "id": "9bda7bff",
   "metadata": {},
   "source": [
    "Q4. Categorise the following datasets with respect to quantitative and qualitative data types:\n",
    "(i) Grading in exam: A+, A, B+, B, C+, C, D, E\n",
    "(ii) Colour of mangoes: yellow, green, orange, red\n",
    "(iii) Height data of a class: [178.9, 179, 179.5, 176, 177.2, 178.3, 175.8,...]\n",
    "(iv) Number of mangoes exported by a farm: [500, 600, 478, 672, ...]"
   ]
  },
  {
   "cell_type": "markdown",
   "id": "11bfc784",
   "metadata": {},
   "source": [
    "Ans.(i)     Qualitative Nominal\n",
    "    (ii)    Qualitative Odinal\n",
    "    (iv)    Quantitative Discretc  \n",
    "    (iii)   Quantitative continuous"
   ]
  },
  {
   "cell_type": "markdown",
   "id": "4da5134f",
   "metadata": {},
   "source": [
    "Q8. Which type of plot can be used to display data in terms of range?"
   ]
  },
  {
   "cell_type": "markdown",
   "id": "103ad588",
   "metadata": {},
   "source": [
    "Ans.Scatterplot\n"
   ]
  },
  {
   "cell_type": "markdown",
   "id": "6713cf8b",
   "metadata": {},
   "source": [
    "Q7. How nominal data type is different from ordinal data type."
   ]
  },
  {
   "cell_type": "markdown",
   "id": "23ad1975",
   "metadata": {},
   "source": [
    "Ans.Nominal and ordinal data are grouped into categories and they are called categorical or qualitative type of data. One marked difference between nominal data and ordinal data is that nominal data does not follow an order or sequence whereas ordinal data follows an order or sequence."
   ]
  },
  {
   "cell_type": "markdown",
   "id": "700769e3",
   "metadata": {},
   "source": [
    "Q9. Describe the difference between descriptive and inferential statistics. Give an example of each\n",
    "type of statistics and explain how they are used."
   ]
  },
  {
   "cell_type": "markdown",
   "id": "1c2f09ef",
   "metadata": {},
   "source": [
    "Ans.While descriptive statistics describe data, inferential statistics allows you to make predictions from data. Professionals often use descriptive statistics to communicate simple trends within a data set. For example, you work for a television station and want to understand your viewers better."
   ]
  },
  {
   "cell_type": "markdown",
   "id": "6286ad6a",
   "metadata": {},
   "source": [
    "Q10. What are some common measures of central tendency and variability used in statistics? Explain\n",
    "how each measure can be used to describe a dataset."
   ]
  },
  {
   "cell_type": "markdown",
   "id": "8dc67a69",
   "metadata": {},
   "source": [
    "Ans.A measure of central tendency is a single value that represents the center point of a dataset. This value can also be referred to as “the central location” of a dataset.\n",
    "\n",
    "In statistics, there are three common measures of central tendency:\n",
    "\n",
    "The mean,\n",
    "The median,\n",
    "The mode,\n",
    "Each of these measures finds the central location of a dataset using different methods. Depending on the type of data you’re analyzing, one of these three measures may be better to use than the other two.\n",
    "\n",
    "In this post, we’ll take a look at how to calculate each of the three measures of central tendency along with how to determine which measure is best to use based on your data."
   ]
  },
  {
   "cell_type": "markdown",
   "id": "32c3adee",
   "metadata": {},
   "source": [
    "Q5. Explain the concept of levels of measurement and give an example of a variable for each level."
   ]
  },
  {
   "cell_type": "markdown",
   "id": "f651136a",
   "metadata": {},
   "source": [
    "Ans.Levels of measurement, also called scales of measurement, tell you how precisely variables are recorded. In scientific research, a variable is anything that can take on different values across your data set (e.g., height or test scores).\n",
    "\n",
    "There are 4 levels of measurement:\n",
    "\n",
    "Nominal: the data can only be categorized\n",
    "Ordinal: the data can be categorized and ranked\n",
    "Interval: the data can be categorized, ranked, and evenly spaced\n",
    "Ratio: the data can be categorized, ranked, evenly spaced, and has a natural zero.\n",
    "Depending on the level of measurement of the variable, what you can do to analyze your data may be limited. There is a hierarchy in the complexity and precision of the level of measurement, from low (nominal) to high (ratio)."
   ]
  },
  {
   "cell_type": "markdown",
   "id": "fd56dd68",
   "metadata": {},
   "source": [
    "Q6. Why is it important to understand the level of measurement when analyzing data? Provide an\n",
    "example to illustrate your answer."
   ]
  },
  {
   "cell_type": "code",
   "execution_count": null,
   "id": "aa126a9a",
   "metadata": {},
   "outputs": [],
   "source": []
  }
 ],
 "metadata": {
  "kernelspec": {
   "display_name": "Python 3 (ipykernel)",
   "language": "python",
   "name": "python3"
  },
  "language_info": {
   "codemirror_mode": {
    "name": "ipython",
    "version": 3
   },
   "file_extension": ".py",
   "mimetype": "text/x-python",
   "name": "python",
   "nbconvert_exporter": "python",
   "pygments_lexer": "ipython3",
   "version": "3.9.13"
  }
 },
 "nbformat": 4,
 "nbformat_minor": 5
}
